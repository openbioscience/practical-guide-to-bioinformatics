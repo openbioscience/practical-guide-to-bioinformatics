{
 "cells": [
  {
   "cell_type": "markdown",
   "id": "9cd82662",
   "metadata": {},
   "source": [
    "# Introduction"
   ]
  },
  {
   "cell_type": "markdown",
   "id": "d4e25a46",
   "metadata": {},
   "source": [
    "## FASTA file format"
   ]
  },
  {
   "cell_type": "code",
   "execution_count": 1,
   "id": "9ec2fb7e",
   "metadata": {},
   "outputs": [
    {
     "name": "stdout",
     "output_type": "stream",
     "text": [
      "ECA0662 length: 1389\n",
      "ECA1451 length: 1425\n",
      "ECA1871 length: 1395\n",
      "ECA2166 length: 1431\n",
      "ECA3646 length: 1437\n",
      "ECA4387 length: 1473\n",
      "ECA4407 length: 1398\n",
      "ECA4432 length: 1443\n",
      "Done.\n"
     ]
    }
   ],
   "source": [
    "from Bio import SeqIO\n",
    "\n",
    "fname = \"../data/01_Introduction/glycoside_hydrolases_nt.fasta\"\n",
    "\n",
    "for record in SeqIO.parse(fname, \"fasta\"):\n",
    "    length = len(record.seq)\n",
    "    print(f\"{record.id} length: {length}\")\n",
    "    \n",
    "print(\"Done.\")"
   ]
  },
  {
   "cell_type": "markdown",
   "id": "a18888bf",
   "metadata": {},
   "source": [
    "## GenBank"
   ]
  },
  {
   "cell_type": "code",
   "execution_count": 3,
   "id": "c2260132",
   "metadata": {},
   "outputs": [],
   "source": [
    "from Bio import Entrez\n",
    "\n",
    "Entrez.email = \"mattfeng@mit.edu\""
   ]
  },
  {
   "cell_type": "code",
   "execution_count": 5,
   "id": "8b5dbb61",
   "metadata": {},
   "outputs": [
    {
     "name": "stdout",
     "output_type": "stream",
     "text": [
      "Fetching NC_004547.2 from NCBI...\n",
      "Saved NC_004547.2.gbk.\n"
     ]
    }
   ],
   "source": [
    "accession = \"NC_004547.2\"\n",
    "print(f\"Fetching {accession} from NCBI...\")\n",
    "\n",
    "fetch_handle = Entrez.efetch(\"nuccore\", id=accession, rettype=\"gbwithparts\", retmode=\"text\")\n",
    "\n",
    "with open(accession + \".gbk\", \"w\") as output_handle:\n",
    "    output_handle.write(fetch_handle.read())\n",
    "    \n",
    "print(f\"Saved {accession}.gbk.\")"
   ]
  },
  {
   "cell_type": "markdown",
   "id": "b39ff2c2",
   "metadata": {},
   "source": [
    "### Parsing GenBank files"
   ]
  },
  {
   "cell_type": "code",
   "execution_count": null,
   "id": "61cab987",
   "metadata": {},
   "outputs": [],
   "source": []
  }
 ],
 "metadata": {
  "kernelspec": {
   "display_name": "Python 3 (ipykernel)",
   "language": "python",
   "name": "python3"
  },
  "language_info": {
   "codemirror_mode": {
    "name": "ipython",
    "version": 3
   },
   "file_extension": ".py",
   "mimetype": "text/x-python",
   "name": "python",
   "nbconvert_exporter": "python",
   "pygments_lexer": "ipython3",
   "version": "3.9.6"
  }
 },
 "nbformat": 4,
 "nbformat_minor": 5
}
