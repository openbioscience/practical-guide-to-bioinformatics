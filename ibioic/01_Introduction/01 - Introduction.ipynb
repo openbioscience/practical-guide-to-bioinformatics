{
 "cells": [
  {
   "cell_type": "markdown",
   "id": "9cd82662",
   "metadata": {},
   "source": [
    "# Introduction"
   ]
  },
  {
   "cell_type": "markdown",
   "id": "d4e25a46",
   "metadata": {},
   "source": [
    "## FASTA file format"
   ]
  },
  {
   "cell_type": "code",
   "execution_count": 1,
   "id": "9ec2fb7e",
   "metadata": {},
   "outputs": [
    {
     "name": "stdout",
     "output_type": "stream",
     "text": [
      "ECA0662 length: 1389\n",
      "ECA1451 length: 1425\n",
      "ECA1871 length: 1395\n",
      "ECA2166 length: 1431\n",
      "ECA3646 length: 1437\n",
      "ECA4387 length: 1473\n",
      "ECA4407 length: 1398\n",
      "ECA4432 length: 1443\n",
      "Done.\n"
     ]
    }
   ],
   "source": [
    "from Bio import SeqIO\n",
    "\n",
    "fname = \"../data/01_Introduction/glycoside_hydrolases_nt.fasta\"\n",
    "\n",
    "for record in SeqIO.parse(fname, \"fasta\"):\n",
    "    length = len(record.seq)\n",
    "    print(f\"{record.id} length: {length}\")\n",
    "    \n",
    "print(\"Done.\")"
   ]
  },
  {
   "cell_type": "markdown",
   "id": "a18888bf",
   "metadata": {},
   "source": [
    "## GenBank"
   ]
  },
  {
   "cell_type": "code",
   "execution_count": 3,
   "id": "c2260132",
   "metadata": {},
   "outputs": [],
   "source": [
    "from Bio import Entrez\n",
    "\n",
    "Entrez.email = \"mattfeng@mit.edu\""
   ]
  },
  {
   "cell_type": "code",
   "execution_count": 5,
   "id": "8b5dbb61",
   "metadata": {},
   "outputs": [
    {
     "name": "stdout",
     "output_type": "stream",
     "text": [
      "Fetching NC_004547.2 from NCBI...\n",
      "Saved NC_004547.2.gbk.\n"
     ]
    }
   ],
   "source": [
    "accession = \"NC_004547.2\"\n",
    "print(f\"Fetching {accession} from NCBI...\")\n",
    "\n",
    "fetch_handle = Entrez.efetch(\"nuccore\", id=accession, rettype=\"gbwithparts\", retmode=\"text\")\n",
    "\n",
    "with open(accession + \".gbk\", \"w\") as output_handle:\n",
    "    output_handle.write(fetch_handle.read())\n",
    "    \n",
    "print(f\"Saved {accession}.gbk.\")"
   ]
  },
  {
   "cell_type": "markdown",
   "id": "b39ff2c2",
   "metadata": {},
   "source": [
    "### Parsing GenBank files"
   ]
  },
  {
   "cell_type": "code",
   "execution_count": 2,
   "id": "61cab987",
   "metadata": {},
   "outputs": [],
   "source": [
    "from Bio import SeqIO\n",
    "\n",
    "def get_cds_feature_with_qualifier_value(seq_record, name, value):\n",
    "    # loop over the features\n",
    "    for feature in genome_record.features:\n",
    "        if feature.type == \"CDS\" and value in feature.qualifiers.get(name, []):\n",
    "            return feature\n",
    "    return None"
   ]
  },
  {
   "cell_type": "code",
   "execution_count": 3,
   "id": "0e4e3903",
   "metadata": {},
   "outputs": [
    {
     "name": "stdout",
     "output_type": "stream",
     "text": [
      "type: CDS\n",
      "location: [736846:738235](-)\n",
      "qualifiers:\n",
      "    Key: EC_number, Value: ['3.2.1.86']\n",
      "    Key: codon_start, Value: ['1']\n",
      "    Key: gene, Value: ['ascB']\n",
      "    Key: inference, Value: ['COORDINATES: similar to AA sequence:RefSeq:WP_000643228.1']\n",
      "    Key: locus_tag, Value: ['ECA_RS03295']\n",
      "    Key: note, Value: ['Derived by automated computational analysis using gene prediction method: Protein Homology.']\n",
      "    Key: old_locus_tag, Value: ['ECA0662']\n",
      "    Key: product, Value: ['6-phospho-beta-glucosidase']\n",
      "    Key: protein_id, Value: ['WP_039289952.1']\n",
      "    Key: transl_table, Value: ['11']\n",
      "    Key: translation, Value: ['MKAFPDGFLWGGSVAANQVEGAWNEDGKGVSTSDLQLKGVHGPVTERDESISCIKDRAIDFYHQYPQDIQLFAEMGFKVLRTSIAWTRIYPEGNEAEPCEAGLAFYDHLFDEMAKHHIQPLITLSHYEMPYGLVKKLGGWGNRAVIDHFEKYARTVFSRYKDKVKHWLTFNEINMALHSPFTGIGLSGEPSKQDIYQAIHHQLVASARVVKACHDIIPDAKIGNMLLGAVRYPMTCHPKDVLEAQNKNREWLFFGDVQVRGTYPAWIQRYFRENDVELTITAQDKDDLSHTVDFVSFSYYMSGCATFEPEKYQSSRGNIIRLIPNPHLEASEWGWQIDPEGLRFLLNELYDRYQKPLFIVENGLGARDVVEEDGSIHDSYRIDYLRRHLIQVREAIDDGVELLGYTSWGPIDLVSAGTAQMSKRYGFIHVDRDDEGKGTLERRRKDSFYWYQDVISSNGKSL']\n",
      "\n"
     ]
    }
   ],
   "source": [
    "genome_record = SeqIO.read(\"NC_004547.2.gbk\", \"genbank\")\n",
    "cds_feature = get_cds_feature_with_qualifier_value(genome_record, \"old_locus_tag\", \"ECA0662\")\n",
    "print(cds_feature)"
   ]
  },
  {
   "cell_type": "code",
   "execution_count": 4,
   "id": "a2108702",
   "metadata": {},
   "outputs": [
    {
     "name": "stdout",
     "output_type": "stream",
     "text": [
      "[736846:738235](-)\n"
     ]
    }
   ],
   "source": [
    "print(cds_feature.location)"
   ]
  },
  {
   "cell_type": "code",
   "execution_count": 5,
   "id": "15fcf9f4",
   "metadata": {},
   "outputs": [
    {
     "name": "stdout",
     "output_type": "stream",
     "text": [
      "CDS nucleotide sequence:\n",
      "ATGAAAGCATTCCCCGACGGATTTTTATGGGGCGGTTCAGTCGCAGCAAATCAGGTTGAAGGGGCATGGAATGAAGACGGCAAAGGCGTGTCGACCTCCGATCTTCAGCTAAAGGGCGTGCATGGTCCGGTGACAGAACGCGATGAGAGCATTAGCTGCATCAAAGATCGGGCAATCGATTTTTATCATCAATATCCGCAGGATATACAGCTATTCGCCGAAATGGGCTTCAAGGTGTTACGCACCTCCATCGCCTGGACGCGTATTTATCCCGAAGGCAATGAAGCAGAACCCTGCGAAGCGGGTCTGGCCTTTTACGATCATCTGTTTGATGAAATGGCAAAGCATCATATTCAGCCGCTGATTACGCTGTCGCACTATGAAATGCCGTACGGTCTGGTGAAAAAGTTGGGAGGCTGGGGCAACCGCGCCGTCATCGACCATTTTGAGAAATATGCCCGTACCGTCTTTAGCCGCTACAAAGACAAGGTGAAGCACTGGCTGACCTTCAATGAAATCAACATGGCGCTGCACTCGCCTTTTACGGGTATCGGGCTAAGCGGCGAACCCTCAAAACAGGATATTTATCAGGCCATCCACCATCAGTTGGTTGCCAGTGCACGCGTGGTGAAAGCCTGTCACGACATCATCCCTGATGCCAAAATCGGCAATATGCTGCTGGGCGCGGTGCGCTACCCCATGACCTGTCATCCGAAAGACGTACTGGAAGCGCAGAACAAGAATCGGGAATGGCTGTTCTTCGGTGACGTGCAAGTTCGCGGCACCTATCCGGCGTGGATTCAGCGTTATTTCCGGGAAAATGATGTCGAACTCACGATTACCGCGCAGGACAAAGACGATCTGAGCCACACCGTAGACTTTGTTTCATTCAGCTATTACATGAGTGGCTGTGCGACCTTCGAACCAGAAAAATACCAGTCTTCACGCGGCAACATCATCCGCCTGATTCCTAACCCGCATCTTGAAGCGTCCGAATGGGGCTGGCAGATCGACCCCGAAGGCCTGCGTTTCCTGTTGAATGAGCTGTATGACCGCTATCAGAAGCCGCTGTTCATCGTGGAAAACGGGTTAGGCGCACGCGACGTGGTGGAAGAGGATGGCAGCATTCACGACAGCTACCGCATTGATTATCTGCGTCGTCATCTGATTCAAGTACGTGAAGCCATCGACGATGGCGTCGAACTGCTTGGCTACACCAGTTGGGGGCCGATCGATCTAGTCAGCGCAGGCACGGCGCAGATGTCAAAACGCTACGGCTTTATTCATGTCGATCGTGATGATGAAGGCAAAGGCACGTTGGAACGTCGGCGCAAAGACAGCTTCTACTGGTATCAGGATGTGATTAGCAGTAACGGGAAATCGTTGTAA\n",
      "Start codon is ATG\n",
      "Stop codon is TAA\n"
     ]
    }
   ],
   "source": [
    "gene_sequence = cds_feature.extract(genome_record.seq)\n",
    "print(\"CDS nucleotide sequence:\")\n",
    "print(gene_sequence)\n",
    "print(f\"Start codon is {gene_sequence[:3]}\")\n",
    "print(f\"Stop codon is {gene_sequence[-3:]}\")"
   ]
  },
  {
   "cell_type": "code",
   "execution_count": 6,
   "id": "46f32c39",
   "metadata": {},
   "outputs": [
    {
     "name": "stdout",
     "output_type": "stream",
     "text": [
      "Translated into amino acids:\n",
      "MKAFPDGFLWGGSVAANQVEGAWNEDGKGVSTSDLQLKGVHGPVTERDESISCIKDRAIDFYHQYPQDIQLFAEMGFKVLRTSIAWTRIYPEGNEAEPCEAGLAFYDHLFDEMAKHHIQPLITLSHYEMPYGLVKKLGGWGNRAVIDHFEKYARTVFSRYKDKVKHWLTFNEINMALHSPFTGIGLSGEPSKQDIYQAIHHQLVASARVVKACHDIIPDAKIGNMLLGAVRYPMTCHPKDVLEAQNKNREWLFFGDVQVRGTYPAWIQRYFRENDVELTITAQDKDDLSHTVDFVSFSYYMSGCATFEPEKYQSSRGNIIRLIPNPHLEASEWGWQIDPEGLRFLLNELYDRYQKPLFIVENGLGARDVVEEDGSIHDSYRIDYLRRHLIQVREAIDDGVELLGYTSWGPIDLVSAGTAQMSKRYGFIHVDRDDEGKGTLERRRKDSFYWYQDVISSNGKSL\n"
     ]
    }
   ],
   "source": [
    "protein_sequence = gene_sequence.translate(table=11, cds=True)\n",
    "print(\"Translated into amino acids:\")\n",
    "print(protein_sequence)"
   ]
  },
  {
   "cell_type": "code",
   "execution_count": 12,
   "id": "b7e172be",
   "metadata": {},
   "outputs": [
    {
     "name": "stdout",
     "output_type": "stream",
     "text": [
      "Looking at ECA0662\n",
      "Looking at ECA1451\n",
      "Looking at ECA1871\n",
      "Looking at ECA2166\n",
      "Looking at ECA3646\n",
      "Looking at ECA4387\n",
      "Looking at ECA4407\n",
      "Looking at ECA4432\n",
      "Done.\n"
     ]
    }
   ],
   "source": [
    "old_tags = [\"ECA0662\", \"ECA1451\", \"ECA1871\", \"ECA2166\",\n",
    "            \"ECA3646\", \"ECA4387\", \"ECA4407\", \"ECA4432\"]\n",
    "\n",
    "with open(\"nucleotides.fasta\", \"w\") as nto, open(\"proteins.fasta\", \"w\") as pto:\n",
    "    for tag in old_tags:\n",
    "        print(f\"Looking at {tag}\")\n",
    "        cds_feature = get_cds_feature_with_qualifier_value(genome_record, \"old_locus_tag\", tag)\n",
    "        gene_seq = cds_feature.extract(genome_record.seq)\n",
    "        protein_seq = gene_seq.translate(table=11, cds=True)\n",
    "\n",
    "        assert protein_seq == cds_feature.qualifiers[\"translation\"][0]\n",
    "\n",
    "        nto.write(f\">{tag}\\n{gene_seq}\\n\")\n",
    "        pto.write(f\">{tag}\\n{protein_seq}\\n\")\n",
    "\n",
    "print(\"Done.\")"
   ]
  },
  {
   "cell_type": "code",
   "execution_count": null,
   "id": "b8a7e673",
   "metadata": {},
   "outputs": [],
   "source": []
  }
 ],
 "metadata": {
  "kernelspec": {
   "display_name": "Python 3 (ipykernel)",
   "language": "python",
   "name": "python3"
  },
  "language_info": {
   "codemirror_mode": {
    "name": "ipython",
    "version": 3
   },
   "file_extension": ".py",
   "mimetype": "text/x-python",
   "name": "python",
   "nbconvert_exporter": "python",
   "pygments_lexer": "ipython3",
   "version": "3.9.6"
  }
 },
 "nbformat": 4,
 "nbformat_minor": 5
}
